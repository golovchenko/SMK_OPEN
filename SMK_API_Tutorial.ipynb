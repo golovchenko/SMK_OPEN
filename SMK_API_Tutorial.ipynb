{
 "cells": [
  {
   "cell_type": "code",
   "execution_count": 5,
   "metadata": {},
   "outputs": [],
   "source": [
    "### useful info\n",
    "# About the SMK OPEN project: https://www.smk.dk/en/article/smk-open/\n",
    "# API documentation: https://www.smk.dk/en/article/smk-api/"
   ]
  },
  {
   "cell_type": "code",
   "execution_count": null,
   "metadata": {},
   "outputs": [],
   "source": [
    "### importing libraries\n",
    "import requests as requests # for calling the API\n",
    "from time import sleep # for slowing down the loop"
   ]
  },
  {
   "cell_type": "code",
   "execution_count": 19,
   "metadata": {},
   "outputs": [
    {
     "data": {
      "text/plain": [
       "90494"
      ]
     },
     "execution_count": 19,
     "metadata": {},
     "output_type": "execute_result"
    }
   ],
   "source": [
    "### downloading all ids\n",
    "# contacting art endpoint\n",
    "id_endpoint = requests.get(\"https://api.smk.dk/api/v1/art/all_ids\")\n",
    "id_endpoint = id_endpoint.json() \n",
    "\n",
    "### creating a clean list with all of the object IDs.\n",
    "objectIDs = id_endpoint.get('objectIDs')\n",
    "\n",
    "### printing the current number of registered art pieced in the data base\n",
    "len(objectIDs) \n",
    "\n",
    "# Object IDs are also refered to as \"Object Number\" in SMK's browser interface. Each art registration \n",
    "# has an object number/ID.\n",
    "# See the following URL as an example: https://open.smk.dk/en/artwork/image/KMS3696?q=*&page=0\n",
    "\n"
   ]
  },
  {
   "cell_type": "code",
   "execution_count": 33,
   "metadata": {},
   "outputs": [],
   "source": [
    "#### using a 'for loop' to downloading all metadata for each art piece\n",
    "length = len(objectIDs[0:100]) #100 art pieces. If you want ALL art pieces, replace objectIDs[0:100] with objectIDs\n",
    "metadata = [] #creating an empty list where we will store the metadata\n",
    "\n",
    "for i in range(length):\n",
    "    object_number = {\"object_number\": objectIDs[i]} # converting object number int a dict class\n",
    "    response = requests.get(\"https://api.smk.dk/api/v1/art/\", params = object_number) ### ruqesting metadata for the specific object number\n",
    "    response = response.json()\n",
    "    response = response.get('items') # keeping only 'items' with meta data for the respective art piece\n",
    "    metadata = metadata + response # accumulating the meta data with each iteration\n",
    "    sleep(0.1) # resting for 0.1 seconds after each iteration so that we do not overload the API\n"
   ]
  },
  {
   "cell_type": "code",
   "execution_count": 49,
   "metadata": {},
   "outputs": [
    {
     "data": {
      "text/plain": [
       "{'id': '1170015464_object',\n",
       " 'created': '2020-03-21T13:26:06Z',\n",
       " 'modified': '2020-08-29T14:57:36Z',\n",
       " 'acquisition_date_precision': '1976-12-30',\n",
       " 'responsible_department': 'Samling og Forskning (KKS)',\n",
       " 'credit_line': ['© Olivia Holm-Møller'],\n",
       " 'dimensions': [{'part': 'bladmaal',\n",
       "   'type': 'højde',\n",
       "   'unit': 'mm',\n",
       "   'value': '269'},\n",
       "  {'part': 'bladmaal', 'type': 'bredde', 'unit': 'mm', 'value': '205'}],\n",
       " 'inscriptions': [{'language': 'eng'}],\n",
       " 'object_names': [{'name': 'tegning'}],\n",
       " 'production': [{'creator': 'Holm-Møller, Olivia',\n",
       "   'creator_forename': 'Olivia',\n",
       "   'creator_surname': 'Holm-Møller',\n",
       "   'creator_date_of_birth': '1875-11-05T00:00:00.000Z',\n",
       "   'creator_date_of_death': '1970-11-03T00:00:00.000Z',\n",
       "   'creator_nationality': 'dansk',\n",
       "   'creator_gender': 'FEMALE',\n",
       "   'creator_history': 'Tegninger: Td 788a, 788b, 791, O2\\nGrafik: 801a, 801b, 938a1, Sk 12\\nGrafik i bøger: ja',\n",
       "   'creator_lref': '30558_person'}],\n",
       " 'production_date': [{'start': '1889-11-29T00:00:00.000Z',\n",
       "   'end': '1945-11-29T00:00:00.000Z',\n",
       "   'period': '1889-1945'}],\n",
       " 'techniques': ['sortkridt'],\n",
       " 'titles': [{'title': 'Kvindehoved i trekvart profil mod højre'}],\n",
       " 'object_number': 'KKS1976-740',\n",
       " 'object_url': 'https://api.smk.dk/api/v1/art/?object_number=kks1976-740',\n",
       " 'iiif_manifest': 'https://api.smk.dk/api/v1/iiif/manifest/?id=kks1976-740',\n",
       " 'enrichment_url': 'https://enrichment.api.smk.dk/api/enrichment/KKS1976-740',\n",
       " 'similar_images_url': 'https://similar.api.smk.dk/similar/?object_number=KKS1976-740',\n",
       " 'production_dates_notes': ['Værkdatering: 1890 - 1946'],\n",
       " 'public_domain': False,\n",
       " 'rights': 'https://kum.dk/kulturpolitik/ophavsret/',\n",
       " 'on_display': False,\n",
       " 'has_image': False}"
      ]
     },
     "execution_count": 49,
     "metadata": {},
     "output_type": "execute_result"
    }
   ],
   "source": [
    "### how does the data look like? Accesing the first art piece\n",
    "metadata[0]"
   ]
  },
  {
   "cell_type": "code",
   "execution_count": 41,
   "metadata": {},
   "outputs": [],
   "source": [
    "### storing the data as json file in your directory\n",
    "import json\n",
    "with open('metadata.txt', 'w') as outfile:\n",
    "    json.dump(metadata, outfile)\n"
   ]
  },
  {
   "cell_type": "code",
   "execution_count": 43,
   "metadata": {},
   "outputs": [],
   "source": [
    "### loading the data from your directory\n",
    "with open('metadata.txt') as json_file:\n",
    "    new_data = json.load(json_file)"
   ]
  }
 ],
 "metadata": {
  "kernelspec": {
   "display_name": "Python 3",
   "language": "python",
   "name": "python3"
  },
  "language_info": {
   "codemirror_mode": {
    "name": "ipython",
    "version": 3
   },
   "file_extension": ".py",
   "mimetype": "text/x-python",
   "name": "python",
   "nbconvert_exporter": "python",
   "pygments_lexer": "ipython3",
   "version": "3.8.3"
  }
 },
 "nbformat": 4,
 "nbformat_minor": 4
}
